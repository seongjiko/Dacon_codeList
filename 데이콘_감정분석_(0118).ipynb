{
  "cells": [
    {
      "cell_type": "markdown",
      "source": [
        "#아래의 코드는 '박이삭'회원님의 코드공유를 참고하여 만들었습니다. 전반적인 코드흐름은 동일하며 보다 정확한 결과값을 위해 성능이 좋은 3개의 분류모델을 찾고, 3개의 결과를 토대로 최종 결과를 도출해내었습니다."
      ],
      "metadata": {
        "id": "8tg71AffcSEn"
      }
    },
    {
      "cell_type": "markdown",
      "source": [
        "기본 모듈 및 측정 모델 셋팅"
      ],
      "metadata": {
        "id": "kosRanLXcq0d"
      }
    },
    {
      "cell_type": "code",
      "execution_count": null,
      "metadata": {
        "id": "lLOCcQGRn5SG"
      },
      "outputs": [],
      "source": [
        "import pandas as pd\n",
        "import numpy as np\n",
        "\n",
        "from sklearn.feature_extraction.text import TfidfVectorizer\n",
        "\n",
        "from sklearn.neighbors import KNeighborsClassifier\n",
        "from sklearn.linear_model import LogisticRegression\n",
        "from sklearn.ensemble import RandomForestClassifier\n",
        "from sklearn.ensemble import GradientBoostingClassifier\n",
        "from sklearn import svm\n",
        "from xgboost import XGBClassifier\n",
        "from lightgbm import LGBMClassifier\n",
        "\n",
        "from sklearn.model_selection import train_test_split"
      ]
    },
    {
      "cell_type": "markdown",
      "source": [
        "데이터 로드"
      ],
      "metadata": {
        "id": "tDCAbE0fcuKw"
      }
    },
    {
      "cell_type": "code",
      "execution_count": null,
      "metadata": {
        "id": "FWpV0gD9n6X6"
      },
      "outputs": [],
      "source": [
        "train = pd.read_csv('/content/drive/MyDrive/dacon/movie_review_analysis/train.csv')\n",
        "test = pd.read_csv('/content/drive/MyDrive/dacon/movie_review_analysis/test.csv')\n",
        "sample_submission = pd.read_csv('/content/drive/MyDrive/dacon/movie_review_analysis/sample_submission.csv')"
      ]
    },
    {
      "cell_type": "markdown",
      "metadata": {
        "id": "mu3IEUM3qPpU"
      },
      "source": [
        "max_features = 15800\n",
        "Accuracy 0.875"
      ]
    },
    {
      "cell_type": "markdown",
      "source": [
        "Vectorizer를 사용하였고 max_features는 1부터 20000까지 100단위로 찾아본 결과 15800에서 정확도 0.875의 가장 높은 정확도를 가졌습니다."
      ],
      "metadata": {
        "id": "3e-XhNGXcwM8"
      }
    },
    {
      "cell_type": "code",
      "execution_count": null,
      "metadata": {
        "colab": {
          "background_save": true
        },
        "id": "NnbBU10pqeDn",
        "outputId": "bfa118ef-6d62-46c4-e88b-f8c8d12a1b29"
      },
      "outputs": [
        {
          "name": "stdout",
          "output_type": "stream",
          "text": [
            "max_features: 15800, SVM: 0.877, KNN: 0.846 LR: 0.875, RFC: 0.826, GBC: 0.857, XGB: 0.846, LGBM: 0.846\n"
          ]
        }
      ],
      "source": [
        " vectorizer = TfidfVectorizer(min_df = 0.0, analyzer=\"char\", sublinear_tf=True, ngram_range=(1,3), max_features=15800)\n",
        "\n",
        "\n",
        "X = train['document']\n",
        "y = np.array(train.label)\n",
        "\n",
        "X_train, X_eval, y_train, y_eval = train_test_split(X, y, test_size=0.2, random_state=2)\n",
        "\n",
        "X_train = vectorizer.fit_transform(X_train)\n",
        "X_eval = vectorizer.transform(X_eval)\n",
        "\n",
        "SVM = svm.SVC().fit(X_train, y_train)\n",
        "KNN = KNeighborsClassifier(n_neighbors = 47).fit(X_train, y_train)\n",
        "LR = LogisticRegression(class_weight='balanced', max_iter=1000).fit(X_train, y_train)\n",
        "RFC = RandomForestClassifier(class_weight='balanced', n_estimators=1000).fit(X_train, y_train)\n",
        "GBC = GradientBoostingClassifier(n_estimators=1000).fit(X_train, y_train)\n",
        "XGB = XGBClassifier(class_weight='balanced', n_estimators=1000).fit(X_train, y_train)\n",
        "LGBM = LGBMClassifier(class_weight='balanced', n_estimators=1000).fit(X_train, y_train)\n",
        "\n",
        "\n",
        "print(f\"max_features: {15800}, SVM: {SVM.score(X_eval, y_eval)}, KNN: {KNN.score(X_eval, y_eval)} LR: {LR.score(X_eval, y_eval)}, RFC: {RFC.score(X_eval, y_eval)}, GBC: {GBC.score(X_eval, y_eval)}, XGB: {XGB.score(X_eval, y_eval)}, LGBM: {LGBM.score(X_eval, y_eval)}\" )"
      ]
    },
    {
      "cell_type": "markdown",
      "source": [
        "위의 여러 모델 결과를 보면 SupportVectorMachine이 가장 성능이 좋았고 그다음 Linear regressor, GradientBoostClassifier모델이 순위를 이었습니다.\n",
        "`여기서 핵심 개념은 3개의 예측값 중 1이 2개이상 나오면 1, 0이 2개이상 나오면 0으로 결과값을 도출합니다.`\n"
      ],
      "metadata": {
        "id": "GRgqP-3Wc-sx"
      }
    },
    {
      "cell_type": "code",
      "execution_count": null,
      "metadata": {
        "id": "RJkmmyqxxOQS"
      },
      "outputs": [],
      "source": [
        "X = train['document']\n",
        "y = np.array(train.label)\n",
        "\n",
        "X_train = vectorizer.fit_transform(X)\n",
        "X_test = vectorizer.transform(test['document'])\n",
        "\n",
        "SVM = svm.SVC().fit(X_train, y)\n",
        "LR = LogisticRegression(class_weight='balanced', max_iter=1000).fit(X_train, y)\n",
        "# RFC = RandomForestClassifier(n_estimators=1000).fit(X_train, y)\n",
        "GBC = GradientBoostingClassifier(n_estimators=1000).fit(X_train, y)\n",
        "# XGB = XGBClassifier(n_estimators=1000).fit(X_train, y)\n",
        "# LGBM = LGBMClassifier(n_estimators=1000).fit(X_train, y)\n",
        "\n",
        "SVM_pred = SVM.predict(X_test)\n",
        "LR_pred = LR.predict(X_test)\n",
        "# RFC_pred = RFC.predict(X_test)\n",
        "GBC_pred = GBC.predict(X_test)\n",
        "# XGB_pred = XGB.predict(X_test)\n",
        "# LGBM_pred = LGBM.predict(X_test) \n",
        "\n",
        "pred_list = [SVM_pred,\n",
        "             LR_pred,\n",
        "             GBC_pred]\n",
        "\n",
        "result = []\n",
        "for i in range(5000):\n",
        "    count = 0\n",
        "    for pred in pred_list:\n",
        "        count += pred[i]\n",
        "\n",
        "    if count >= 2: # 1이 더 많으면  \n",
        "        result.append(1)\n",
        "    else:\n",
        "        result.append(0)"
      ]
    },
    {
      "cell_type": "code",
      "execution_count": null,
      "metadata": {
        "id": "sOcoQ_-fqnES"
      },
      "outputs": [],
      "source": [
        "sample_submission = pd.read_csv('/content/drive/MyDrive/dacon/movie_review_analysis/submission.csv')\n",
        "sample_submission.loc[:, 'label'] = result\n",
        "\n",
        "sample_submission.to_csv('/content/drive/MyDrive/dacon/movie_review_analysis/submission.csv', index=False)"
      ]
    },
    {
      "cell_type": "markdown",
      "source": [
        "기존 public score 0.8575에서 3개의 모델을 사용한 결과 0.8615까지 성능이 향상되었습니다.  \n",
        "아직 부족한 실력으로 여기까지가 한계인 것 같습니다. 추후 순위권 분들의 코드공유를 보고 공부하도록 하겠습니다.  \n",
        "감사합니다!\n",
        "\n"
      ],
      "metadata": {
        "id": "59WhPV4_dofu"
      }
    }
  ],
  "metadata": {
    "colab": {
      "name": "데이콘 감정분석_(0118).ipynb",
      "provenance": [],
      "collapsed_sections": []
    },
    "kernelspec": {
      "display_name": "Python 3",
      "name": "python3"
    },
    "language_info": {
      "name": "python"
    }
  },
  "nbformat": 4,
  "nbformat_minor": 0
}